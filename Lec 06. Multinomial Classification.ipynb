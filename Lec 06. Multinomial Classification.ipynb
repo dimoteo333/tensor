{
 "cells": [
  {
   "cell_type": "markdown",
   "id": "gross-rolling",
   "metadata": {},
   "source": [
    "## Softmax Classification\n",
    "+ 텐서플로우로 짜보기\n",
    "------"
   ]
  },
  {
   "cell_type": "code",
   "execution_count": 2,
   "id": "built-teacher",
   "metadata": {},
   "outputs": [
    {
     "name": "stdout",
     "output_type": "stream",
     "text": [
      "x_data : (8, 4)\n",
      "y_data : (8, 3)\n"
     ]
    }
   ],
   "source": [
    "import tensorflow as tf\n",
    "import numpy as np\n",
    "\n",
    "tf.random.set_seed(1)\n",
    "\n",
    "# X : 8X4 행렬, Y : 8X3 행렬\n",
    "x_data = [[1, 2, 1, 1],\n",
    "          [2, 1, 3, 2],\n",
    "          [3, 1, 3, 4],\n",
    "          [4, 1, 5, 5],\n",
    "          [1, 7, 5, 5],\n",
    "          [1, 2, 5, 6],\n",
    "          [1, 6, 6, 6],\n",
    "          [1, 7, 7, 7]]\n",
    "y_data = [[0, 0, 1],\n",
    "          [0, 0, 1],\n",
    "          [0, 0, 1],\n",
    "          [0, 1, 0],\n",
    "          [0, 1, 0],\n",
    "          [0, 1, 0],\n",
    "          [1, 0, 0],\n",
    "          [1, 0, 0]]\n",
    "\n",
    "x_data = np.asarray(x_data, dtype=np.float32)\n",
    "y_data = np.asarray(y_data, dtype=np.float32)\n",
    "\n",
    "nb_classes = 3 # Y 결과값의 개수\n",
    "\n",
    "print(f\"x_data : {x_data.shape}\\ny_data : {y_data.shape}\")"
   ]
  },
  {
   "cell_type": "code",
   "execution_count": 3,
   "id": "major-import",
   "metadata": {},
   "outputs": [
    {
     "name": "stdout",
     "output_type": "stream",
     "text": [
      "[<tf.Variable 'weight:0' shape=(4, 3) dtype=float32, numpy=\n",
      "array([[-1.1012203 ,  1.5457517 ,  0.383644  ],\n",
      "       [-0.87965786, -1.2246722 , -0.9811211 ],\n",
      "       [ 0.08780783, -0.20326038, -0.5581562 ],\n",
      "       [-0.72054404, -0.6259924 , -0.71502596]], dtype=float32)>, <tf.Variable 'bias:0' shape=(3,) dtype=float32, numpy=array([ 0.40308788, -1.0880208 , -0.06309535], dtype=float32)>]\n"
     ]
    }
   ],
   "source": [
    "W = tf.Variable(tf.random.normal((4, nb_classes)), name='weight')\n",
    "b = tf.Variable(tf.random.normal((nb_classes,)), name='bias')\n",
    "variables = [W, b]\n",
    "\n",
    "print(variables)"
   ]
  },
  {
   "cell_type": "code",
   "execution_count": 4,
   "id": "social-scope",
   "metadata": {},
   "outputs": [
    {
     "name": "stdout",
     "output_type": "stream",
     "text": [
      "tf.Tensor(\n",
      "[[2.8565836e-01 3.7394714e-01 3.4039453e-01]\n",
      " [5.3687010e-02 8.5996407e-01 8.6348981e-02]\n",
      " [3.5553419e-03 9.7092170e-01 2.5522944e-02]\n",
      " [4.2082451e-04 9.9589503e-01 3.6841528e-03]\n",
      " [8.6085868e-01 9.1479145e-02 4.7662225e-02]\n",
      " [5.7206035e-01 3.7504578e-01 5.2893914e-02]\n",
      " [8.6537075e-01 1.0668017e-01 2.7949085e-02]\n",
      " [9.1987038e-01 6.5981895e-02 1.4147687e-02]], shape=(8, 3), dtype=float32)\n"
     ]
    }
   ],
   "source": [
    "# Softmax regression을 통한 hypothesis\n",
    "def hypothesis(X):\n",
    "    return tf.nn.softmax(tf.matmul(X, W) + b)\n",
    "\n",
    "print(hypothesis(x_data))"
   ]
  },
  {
   "cell_type": "code",
   "execution_count": 6,
   "id": "surface-sitting",
   "metadata": {},
   "outputs": [
    {
     "name": "stdout",
     "output_type": "stream",
     "text": [
      "tf.Tensor([[5.1618025e-09 9.9979573e-01 2.0427014e-04]], shape=(1, 3), dtype=float32)\n"
     ]
    }
   ],
   "source": [
    "# ?? 왜 Softmax onehot test가 중간에 있는거지?\n",
    "sample_db = [[8,2,1,4]]\n",
    "sample_db = np.asarray(sample_db, dtype=np.float32)\n",
    "\n",
    "print(hypothesis(sample_db))"
   ]
  },
  {
   "cell_type": "markdown",
   "id": "organizational-checkout",
   "metadata": {},
   "source": [
    "### reduce_sum과 reduce_mean에서 axis\n",
    "#####       axis=0은 행렬의 첫번째 축, 즉 세로의 값들을 평균을 내고 axis=1는 행렬의 두번째 축, 즉 가로의 값들을 평균을 낸다는 의미\n",
    "+ print(cost) with axis = 0\n",
    "+ tf.Tensor([0.22811976 3.3764648  7.1951857 ], shape=(3,), dtype=float32)\n",
    "+ print(cost) with axis = 1\n",
    "+ tf.Tensor([1.07765    2.4493582  3.6681776  0.00411342 2.3916442  0.98070717 0.14459725 0.08352251], shape=(8,), dtype=float32)"
   ]
  },
  {
   "cell_type": "code",
   "execution_count": 17,
   "id": "willing-sharp",
   "metadata": {},
   "outputs": [
    {
     "name": "stdout",
     "output_type": "stream",
     "text": [
      "tf.Tensor(\n",
      "[1.07765    2.4493582  3.6681776  0.00411342 2.3916442  0.98070717\n",
      " 0.14459725 0.08352251], shape=(8,), dtype=float32)\n",
      "tf.Tensor(1.3499713, shape=(), dtype=float32)\n"
     ]
    }
   ],
   "source": [
    "# Cost function using cross-entropy\n",
    "def cost_fn(X, Y):\n",
    "    logits = hypothesis(X)\n",
    "    cost = -tf.reduce_sum(Y * tf.math.log(logits), axis=1)\n",
    "    cost_mean = tf.reduce_mean(cost)\n",
    "    \n",
    "    return cost_mean\n",
    "\n",
    "print(cost_fn(x_data, y_data))"
   ]
  },
  {
   "cell_type": "code",
   "execution_count": null,
   "id": "liable-missouri",
   "metadata": {},
   "outputs": [],
   "source": [
    "x = tf.constant(3.0)\n"
   ]
  },
  {
   "cell_type": "code",
   "execution_count": null,
   "id": "involved-benefit",
   "metadata": {},
   "outputs": [],
   "source": []
  },
  {
   "cell_type": "code",
   "execution_count": null,
   "id": "ahead-blank",
   "metadata": {},
   "outputs": [],
   "source": []
  },
  {
   "cell_type": "code",
   "execution_count": null,
   "id": "sublime-traveler",
   "metadata": {},
   "outputs": [],
   "source": []
  }
 ],
 "metadata": {
  "kernelspec": {
   "display_name": "Python 3",
   "language": "python",
   "name": "python3"
  },
  "language_info": {
   "codemirror_mode": {
    "name": "ipython",
    "version": 3
   },
   "file_extension": ".py",
   "mimetype": "text/x-python",
   "name": "python",
   "nbconvert_exporter": "python",
   "pygments_lexer": "ipython3",
   "version": "3.7.9"
  }
 },
 "nbformat": 4,
 "nbformat_minor": 5
}
